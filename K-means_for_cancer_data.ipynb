{
 "cells": [
  {
   "cell_type": "code",
   "execution_count": 1,
   "id": "e2e88003",
   "metadata": {},
   "outputs": [],
   "source": [
    "# K means algorithm for clustering cancer patients"
   ]
  },
  {
   "cell_type": "code",
   "execution_count": 2,
   "id": "57fd2a28",
   "metadata": {},
   "outputs": [],
   "source": [
    "import numpy as np\n",
    "import random"
   ]
  },
  {
   "cell_type": "code",
   "execution_count": 3,
   "id": "62c1144b",
   "metadata": {},
   "outputs": [
    {
     "name": "stdout",
     "output_type": "stream",
     "text": [
      "The shape of the gene expression matrix is:  (62, 2000)\n",
      "First 3 columns of the gene expression matrix: \n",
      "[[ 8589.4163  5468.2409  4263.4075]\n",
      " [ 3825.705   6970.3614  5369.9688]\n",
      " [ 3230.3287  3694.45    3400.74  ]\n",
      " [ 7126.5988  3779.0682  3705.5537]\n",
      " [ 9330.6787  7017.2295  4723.7825]\n",
      " [14876.407   3201.9045  2327.6263]\n",
      " [ 4469.09    5167.0568  4773.68  ]\n",
      " [ 4913.7988  5215.0477  4288.6162]\n",
      " [ 7144.4062  2071.4023  1619.2762]\n",
      " [ 5382.3938  3848.4432  3372.4887]\n",
      " [ 7434.8213  6471.2114  5029.6175]\n",
      " [ 4214.9     2213.3568  1611.5188]\n",
      " [ 8865.4587  5447.1864  4887.0575]\n",
      " [ 5934.8888  3744.9886  3528.8337]\n",
      " [ 5821.6175  3748.2477  3439.9538]\n",
      " [ 9767.0275  9785.775   8605.0438]\n",
      " [13324.729   9505.0341  7740.9875]\n",
      " [12977.712   7565.6159  5735.2   ]\n",
      " [ 8753.2388  8978.1341  7777.8412]\n",
      " [ 5012.02    1383.4886  1269.6487]\n",
      " [ 6904.8012  2260.7773  1987.0012]\n",
      " [ 8347.9838  9852.2977  8178.965 ]\n",
      " [ 5100.5363  3343.3205  2925.67  ]\n",
      " [ 4554.5762  3139.3114  2958.4025]\n",
      " [ 5466.93   10152.273   7760.9175]\n",
      " [ 4201.5075  2425.6273  2228.8175]\n",
      " [ 9128.1188  5502.7159  4590.1338]\n",
      " [ 3799.0888  5665.7795  5157.0675]\n",
      " [14641.931   3377.3932  3048.4325]\n",
      " [ 9443.8775  6671.7773  6260.6162]\n",
      " [14368.276   3651.9909  3302.9275]\n",
      " [ 6951.3538  5565.7773  4480.785 ]\n",
      " [ 6357.9212  3736.8455  2665.5912]\n",
      " [11605.972   8278.9182  7316.1038]\n",
      " [ 7666.675   6409.7386  6489.8637]\n",
      " [ 4527.0038  2912.3068  2124.9887]\n",
      " [ 4653.2375  6251.5568  4947.1225]\n",
      " [ 4972.1662  4173.9182  3668.5338]\n",
      " [ 9112.3725  6824.4864  5982.8463]\n",
      " [ 6234.6225  4005.3     3093.675 ]\n",
      " [ 9164.2537  6719.5295  4883.4487]\n",
      " [ 6246.4487  7823.5341  5955.835 ]\n",
      " [ 2510.325   1960.6545  1566.315 ]\n",
      " [ 4028.71    3156.1591  2870.255 ]\n",
      " [ 5271.5175  4740.7682  3318.5137]\n",
      " [14173.054   8411.8614  6042.84  ]\n",
      " [ 4985.2188  4735.7932  4075.1225]\n",
      " [ 5627.2512  3619.5318  2606.5   ]\n",
      " [ 4865.22    3237.7773  2341.0863]\n",
      " [ 4412.4763  1752.3955  1280.3238]\n",
      " [ 6995.41    6658.1091  5316.3962]\n",
      " [ 1914.6775  2119.1114  1595.4088]\n",
      " [ 3656.7837  5082.8568  4101.9175]\n",
      " [ 6194.245   5202.      4079.6338]\n",
      " [11447.631   3529.1273  2920.8412]\n",
      " [ 6302.7763  4127.4977  3635.695 ]\n",
      " [ 6870.3225  4751.7614  4102.345 ]\n",
      " [ 4177.2838  4984.0977  4585.8987]\n",
      " [ 5777.1738  3387.8932  2413.6525]\n",
      " [ 6730.625   3472.125   2559.4625]\n",
      " [ 7472.01    3653.9341  2728.2162]\n",
      " [ 7121.1737  5346.6477  4254.1175]]\n"
     ]
    }
   ],
   "source": [
    "filename= './gene_expression_matrix.txt'\n",
    "exp_matrix = np.loadtxt(filename)\n",
    "print('The shape of the gene expression matrix is: ', exp_matrix.shape)\n",
    "print('First 3 columns of the gene expression matrix: ')\n",
    "print(exp_matrix[:,:3])\n"
   ]
  },
  {
   "cell_type": "code",
   "execution_count": 4,
   "id": "d664a3bd",
   "metadata": {},
   "outputs": [
    {
     "name": "stdout",
     "output_type": "stream",
     "text": [
      "First 3 columns of the standardized gene expression matrix: \n",
      "[[ 0.51292947  0.23088092  0.09353633]\n",
      " [-1.03981707  0.92273048  0.70714741]\n",
      " [-1.23388184 -0.58609512 -0.3848306 ]\n",
      " [ 0.03611955 -0.5471215  -0.21580511]\n",
      " [ 0.75454626  0.94431708  0.34882377]\n",
      " [ 2.56219368 -0.81295267 -0.97989429]\n",
      " [-0.83010373  0.09216096  0.37649296]\n",
      " [-0.68514951  0.1142647   0.10751508]\n",
      " [ 0.04192392 -1.33364156 -1.37268904]\n",
      " [-0.53240951 -0.51516863 -0.40049653]\n",
      " [ 0.13658563  0.69283101  0.51841559]\n",
      " [-0.91295775 -1.26825988 -1.37699068]\n",
      " [ 0.60290635  0.2211836   0.43936313]\n",
      " [-0.35232204 -0.56281795 -0.3138    ]\n",
      " [-0.38924318 -0.56131687 -0.36308574]\n",
      " [ 0.89677551  2.2194591   2.50106326]\n",
      " [ 2.0564194   2.09015492  2.02192621]\n",
      " [ 1.94330813  1.19689394  0.90967565]\n",
      " [ 0.56632792  1.8474743   2.04236235]\n",
      " [-0.653134   -1.65048218 -1.56656471]\n",
      " [-0.03617607 -1.24641886 -1.16877794]\n",
      " [ 0.43423379  2.25009826  2.26479377]\n",
      " [-0.62428184 -0.74781902 -0.64826672]\n",
      " [-0.80223924 -0.84178193 -0.63011587]\n",
      " [-0.50485467  2.38826146  2.0329778 ]\n",
      " [-0.91732308 -1.17049193 -1.03468581]\n",
      " [ 0.68852123  0.24675948  0.27471281]\n",
      " [-1.04849271  0.32186363  0.58908924]\n",
      " [ 2.4857655  -0.73212575 -0.58019238]\n",
      " [ 0.79144376  0.78520803  1.20102977]\n",
      " [ 2.3965668  -0.60565101 -0.43906965]\n",
      " [-0.02100211  0.27580442  0.21407664]\n",
      " [-0.21443331 -0.56656852 -0.79248578]\n",
      " [ 1.4961852   1.52542809  1.78631943]\n",
      " [ 0.21215907  0.66451774  1.32815224]\n",
      " [-0.81122655 -0.94633614 -1.09226102]\n",
      " [-0.77008028  0.59166207  0.47267041]\n",
      " [-0.66612447 -0.36526073 -0.23633341]\n",
      " [ 0.68338867  0.85554309  1.04700063]\n",
      " [-0.25462291 -0.44292323 -0.55510448]\n",
      " [ 0.70029951  0.80720184  0.43736197]\n",
      " [-0.25076812  1.3156864   1.03202231]\n",
      " [-1.46856929 -1.38464999 -1.40205712]\n",
      " [-0.97364696 -0.83402218 -0.67899548]\n",
      " [-0.56854998 -0.10417986 -0.43042678]\n",
      " [ 2.33293358  1.58665933  1.08026837]\n",
      " [-0.66186994 -0.10647126 -0.01087159]\n",
      " [-0.45259748 -0.62060109 -0.82525307]\n",
      " [-0.70098392 -0.79643031 -0.97243045]\n",
      " [-0.84855714 -1.48057033 -1.56064514]\n",
      " [-0.00664185  0.77891271  0.6774403 ]\n",
      " [-1.66272244 -1.31166761 -1.38592401]\n",
      " [-1.0948775   0.05337997  0.00398679]\n",
      " [-0.26778408  0.10825517 -0.00836998]\n",
      " [ 1.44457346 -0.66223977 -0.65094439]\n",
      " [-0.23240797 -0.38664117 -0.2545432 ]\n",
      " [-0.04741451 -0.09911659  0.00422385]\n",
      " [-0.92521887  0.00789331  0.27236436]\n",
      " [-0.40372974 -0.72728964 -0.93219099]\n",
      " [-0.09294935 -0.688494   -0.85133634]\n",
      " [ 0.1487074  -0.60475601 -0.75775893]\n",
      " [ 0.03435122  0.17487729  0.08838483]]\n"
     ]
    }
   ],
   "source": [
    "# Standarize the data \n",
    "\n",
    "column_means = exp_matrix.mean(axis=0)\n",
    "standardized_exp_matrix = exp_matrix - column_means\n",
    "\n",
    "standard_dev = np.std(exp_matrix, axis=0)\n",
    "standardized_exp_matrix = standardized_exp_matrix / standard_dev\n",
    "\n",
    "print('First 3 columns of the standardized gene expression matrix: ')\n",
    "print(standardized_exp_matrix[:,:3])"
   ]
  },
  {
   "cell_type": "code",
   "execution_count": 5,
   "id": "bcde7f9b",
   "metadata": {},
   "outputs": [],
   "source": [
    "#Calculates euclidean distance of a vector to 2 centroids\n",
    "\n",
    "def euclidean_distance(c1, c2, v):\n",
    "    d1 = np.linalg.norm(c1-v)\n",
    "    d2 = np.linalg.norm(c2-v)\n",
    "    #d1 = np.sqrt(np.sum((c1 - v)**2))\n",
    "    #d2 = np.sqrt(np.sum((c2 - v)**2))\n",
    "    \n",
    "    return np.array([d1, d2])"
   ]
  },
  {
   "cell_type": "code",
   "execution_count": 6,
   "id": "3900757e",
   "metadata": {},
   "outputs": [],
   "source": [
    "#Assigns data points to their closest centroid\n",
    "\n",
    "def assign_to_class(c1,c2,expression_mat):\n",
    "    assigned_classes = {}\n",
    "    sample_size = np.shape(expression_mat)[0]\n",
    "    for i in range(sample_size-1):\n",
    "        distances = euclidean_distance(c1, c2, expression_mat[i])\n",
    "        chosen_class = np.argmin(distances)\n",
    "        \n",
    "        if chosen_class not in assigned_classes:\n",
    "            assigned_classes[chosen_class] = [expression_mat[i]]\n",
    "        else:\n",
    "            assigned_classes[chosen_class].append(expression_mat[i])\n",
    "\n",
    "    return assigned_classes\n",
    "        "
   ]
  },
  {
   "cell_type": "code",
   "execution_count": 7,
   "id": "1373f508",
   "metadata": {},
   "outputs": [],
   "source": [
    "#Updates the cetroids according to in-class data points\n",
    "\n",
    "def update_centroid(expression_mat, centroid_classes):\n",
    "    centroids = []\n",
    "    #print(centroid_classes)\n",
    "    for class_name, vals in centroid_classes.items():\n",
    "        centroids.append(np.average(vals, axis = 0))\n",
    "        \n",
    "    return centroids[0], centroids[1]"
   ]
  },
  {
   "cell_type": "code",
   "execution_count": 8,
   "id": "5b5471c2",
   "metadata": {},
   "outputs": [],
   "source": [
    "#Predicts the cluster for the test groups\n",
    "\n",
    "def predict(c1,c2,v):\n",
    "    distances = euclidean_distance(c1, c2, v)\n",
    "    chosen_class = np.argmin(distances)\n",
    "    \n",
    "    return chosen_class"
   ]
  },
  {
   "cell_type": "code",
   "execution_count": 9,
   "id": "4cd85117",
   "metadata": {},
   "outputs": [],
   "source": [
    "#Calculates and prints percentage of cancer patients ended up in cluster0 and cluster1\n",
    "\n",
    "def print_percentage(centroid_classes, cancers, not_cancers):\n",
    "    pers = []\n",
    "    for cluster_name, cluster_particip in centroid_classes.items():\n",
    "        cancer_num, not_num = 0, 0\n",
    "        for i in cluster_particip:\n",
    "            if i in cancers:\n",
    "                cancer_num+=1\n",
    "            else:\n",
    "                not_num +=1\n",
    "        per = cancer_num / (cancer_num + not_num)\n",
    "\n",
    "        pers.append(per)\n",
    "    print('Cancer patients ended up in cluster0: ', pers[0])\n",
    "    print('Cancer patients ended up in cluster1: ', pers[1])"
   ]
  },
  {
   "cell_type": "code",
   "execution_count": 10,
   "id": "9e73decc",
   "metadata": {},
   "outputs": [
    {
     "name": "stdout",
     "output_type": "stream",
     "text": [
      "Cancer patients ended up in cluster0:  0.7608695652173914\n",
      "Cancer patients ended up in cluster1:  0.8\n",
      "Predicted cluster for 62nd patient: cluster 0\n"
     ]
    }
   ],
   "source": [
    "#K means clustering algorithm\n",
    "\n",
    "def k_means(expression_mat):\n",
    "    cancers = expression_mat[:40]\n",
    "    not_cancers = expression_mat[40:61]\n",
    "    \n",
    "    \n",
    "    #Creates first 2 centroids in a random fashion\n",
    "    sample_size = np.shape(expression_mat)[0]\n",
    "    random.seed(10)\n",
    "    c = random.sample(range(0,sample_size-1),2)\n",
    "    c1, c2 = expression_mat[c[0]], expression_mat[c[1]]\n",
    "    \n",
    "    centroid_classes = {}\n",
    "\n",
    "    for i in range(50):\n",
    "        \n",
    "        #Assigns points to centroid classes\n",
    "        centroid_classes = assign_to_class(c1,c2,expression_mat)\n",
    "\n",
    "        #Update the centroid\n",
    "        c1, c2 = update_centroid(expression_mat, centroid_classes)\n",
    "        #print_percentage(centroid_classes, cancers, not_cancers)\n",
    "\n",
    "        \n",
    "    cancers = expression_mat[:40]\n",
    "    not_cancers = expression_mat[40:61]\n",
    "        \n",
    "    print_percentage(centroid_classes, cancers, not_cancers)\n",
    "    \n",
    "    sample_62 = expression_mat[-1,:]\n",
    "    predicted_62 = predict(c1,c2,sample_62)\n",
    "    print('Predicted cluster for 62nd patient: cluster', predicted_62)\n",
    "    \n",
    "\n",
    "k_means(standardized_exp_matrix) \n"
   ]
  },
  {
   "cell_type": "code",
   "execution_count": 11,
   "id": "79dc378c",
   "metadata": {},
   "outputs": [],
   "source": [
    "from matplotlib import pyplot as plt\n",
    "from scipy.cluster.hierarchy import dendrogram, linkage\n",
    "from scipy.spatial.distance import pdist"
   ]
  },
  {
   "cell_type": "code",
   "execution_count": 12,
   "id": "ef6d3da6",
   "metadata": {},
   "outputs": [
    {
     "data": {
      "image/png": "[encoded data removed]",
      "text/plain": [
       "<Figure size 1440x360 with 1 Axes>"
      ]
     },
     "metadata": {
      "needs_background": "light"
     },
     "output_type": "display_data"
    }
   ],
   "source": [
    "# Hieararchical clustering with scipy\n",
    "\n",
    "Z = linkage(exp_matrix, 'average', 'correlation')\n",
    "\n",
    "\n",
    "# Label name creation for visualization\n",
    "label_list = []\n",
    "for i in range (40):\n",
    "    sample = str((1+i)) + ' cancer patient'\n",
    "    label_list.append(sample)\n",
    "for i in range (21):\n",
    "    sample = str((41 +i)) + ' healthy patient'\n",
    "    label_list.append(sample)\n",
    "label_list.append('62nd patient')\n",
    "\n",
    "\n",
    "# Dendrogram visualization for patients \n",
    "plt.figure(figsize=(20, 5))\n",
    "plt.title('Hierarchical Clustering')\n",
    "plt.xlabel('Patients')\n",
    "\n",
    "dendrogram(Z,labels=label_list,leaf_rotation=90., leaf_font_size=10.)\n",
    "\n",
    "plt.show()"
   ]
  },
  {
   "cell_type": "code",
   "execution_count": null,
   "id": "9c0d4d77",
   "metadata": {},
   "outputs": [],
   "source": [
    "'''\n",
    "The percentage of cancer patients in the clusters are not significantly important. \n",
    "When I changed random seed, percentages changed also, but I could not catch meaningful change.\n",
    "There are 46 sample in the cluster0 while there are 15 in cluster1. \n",
    "\n",
    "Predicted cluster for the 62nd patient is cluster0 which has 0.76 percent cancer patients ratio. However, \n",
    "because the other cluster has 0.8 percent, we cannot reach a reliable conclusion about \n",
    "the disease status of the patient. There might be two reasons behind this conclusion. \n",
    "\n",
    "This might be because there are not enough samples (61) to meet the high dimensionality (2000). \n",
    "When the dimensionality is high, it is harder to distinguish the samples from each other with low number of samples. \n",
    "This is because all data points appear equidistant from the others. When their distances are \n",
    "all equal, then they lookalike for clustering and formed clusters become unmeaningful. \n",
    "\n",
    "This problem can be solved by dimensionality reduction with methods like PCA. Dimensionality reduction \n",
    "helps to reduce the number of attributes in the data while holding the variation of the set. Also, \n",
    "subclustering the two clusters might also help. '''"
   ]
  }
 ],
 "metadata": {
  "kernelspec": {
   "display_name": "Python 3 (ipykernel)",
   "language": "python",
   "name": "python3"
  },
  "language_info": {
   "codemirror_mode": {
    "name": "ipython",
    "version": 3
   },
   "file_extension": ".py",
   "mimetype": "text/x-python",
   "name": "python",
   "nbconvert_exporter": "python",
   "pygments_lexer": "ipython3",
   "version": "3.9.7"
  }
 },
 "nbformat": 4,
 "nbformat_minor": 5
}
